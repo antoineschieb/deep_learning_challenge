{
 "cells": [
  {
   "cell_type": "code",
   "execution_count": 1,
   "metadata": {},
   "outputs": [],
   "source": [
    "import numpy as np\n",
    "from PIL import Image\n",
    "import torch"
   ]
  },
  {
   "cell_type": "code",
   "execution_count": 2,
   "metadata": {},
   "outputs": [],
   "source": [
    "from dataset import CustomImageDataset\n",
    "from torchvision.transforms import Resize\n",
    "\n",
    "full_ds = CustomImageDataset(list(range(400)), load_embeddings=True)"
   ]
  },
  {
   "cell_type": "code",
   "execution_count": 3,
   "metadata": {},
   "outputs": [],
   "source": [
    "import torch.nn.functional as F\n",
    "from torch import nn\n",
    "\n",
    "class MLP(torch.nn.Module):\n",
    "    def __init__(self, d_in, d_hidden, d_out):\n",
    "        super(MLP, self).__init__()\n",
    "        self.d_in = d_in\n",
    "        self.linear1 = torch.nn.Linear(d_in, d_hidden)\n",
    "        self.relu1 = nn.ReLU()\n",
    "        self.linear2 = torch.nn.Linear(d_hidden, d_out)\n",
    "        self.relu2 = nn.ReLU()\n",
    "\n",
    "    def forward(self, X):\n",
    "        X = X.view(-1, self.d_in)\n",
    "        X = self.relu1(self.linear1(X))\n",
    "        X = self.relu2(self.linear2(X))\n",
    "        return F.softmax(X, dim=1)"
   ]
  },
  {
   "cell_type": "code",
   "execution_count": 4,
   "metadata": {},
   "outputs": [
    {
     "name": "stdout",
     "output_type": "stream",
     "text": [
      "MLP(\n",
      "  (linear1): Linear(in_features=1024, out_features=128, bias=True)\n",
      "  (relu1): ReLU()\n",
      "  (linear2): Linear(in_features=128, out_features=4, bias=True)\n",
      "  (relu2): ReLU()\n",
      ")\n"
     ]
    }
   ],
   "source": [
    "mlp = MLP(d_in=1024, d_hidden=128, d_out=4)\n",
    "print(mlp)"
   ]
  },
  {
   "cell_type": "code",
   "execution_count": 5,
   "metadata": {},
   "outputs": [],
   "source": [
    "learning_rate = 1e-4\n",
    "epochs = 20"
   ]
  },
  {
   "cell_type": "code",
   "execution_count": 6,
   "metadata": {},
   "outputs": [],
   "source": [
    "from torch.utils.data import DataLoader\n",
    "\n",
    "train_dataset, val_dataset = torch.utils.data.random_split(full_ds, [0.8, 0.2])\n",
    "\n",
    "train_loader = DataLoader(train_dataset, batch_size=32, shuffle=True)\n",
    "val_loader = DataLoader(train_dataset, batch_size=32, shuffle=False)"
   ]
  },
  {
   "cell_type": "code",
   "execution_count": 7,
   "metadata": {},
   "outputs": [
    {
     "name": "stderr",
     "output_type": "stream",
     "text": [
      "/home/aschieb/Desktop/interview/dataset.py:28: FutureWarning: You are using `torch.load` with `weights_only=False` (the current default value), which uses the default pickle module implicitly. It is possible to construct malicious pickle data which will execute arbitrary code during unpickling (See https://github.com/pytorch/pytorch/blob/main/SECURITY.md#untrusted-models for more details). In a future release, the default value for `weights_only` will be flipped to `True`. This limits the functions that could be executed during unpickling. Arbitrary objects will no longer be allowed to be loaded via this mode unless they are explicitly allowlisted by the user via `torch.serialization.add_safe_globals`. We recommend you start setting `weights_only=True` for any use case where you don't have full control of the loaded file. Please open an issue on GitHub for any issues related to this experimental feature.\n",
      "  emb = torch.load(emb_path)\n"
     ]
    },
    {
     "name": "stdout",
     "output_type": "stream",
     "text": [
      "== epoch 0 ==\n",
      "1.5386125644048054\n",
      "== epoch 1 ==\n",
      "1.5260710716247559\n",
      "== epoch 2 ==\n",
      "1.5114315218395658\n",
      "== epoch 3 ==\n",
      "1.4944257073932223\n",
      "== epoch 4 ==\n",
      "1.475412819120619\n",
      "== epoch 5 ==\n",
      "1.4541669686635335\n",
      "== epoch 6 ==\n",
      "1.4307003551059299\n",
      "== epoch 7 ==\n",
      "1.4065180089738634\n",
      "== epoch 8 ==\n",
      "1.3807557158999972\n",
      "== epoch 9 ==\n",
      "1.3565604554282293\n",
      "== epoch 10 ==\n",
      "1.3312537140316434\n",
      "== epoch 11 ==\n",
      "1.30704132715861\n",
      "== epoch 12 ==\n",
      "1.2854064305623372\n",
      "== epoch 13 ==\n",
      "1.2642529673046536\n",
      "== epoch 14 ==\n",
      "1.2437139881981745\n",
      "== epoch 15 ==\n",
      "1.225196533732944\n",
      "== epoch 16 ==\n",
      "1.2080800930658977\n",
      "== epoch 17 ==\n",
      "1.1919839514626398\n",
      "== epoch 18 ==\n",
      "1.1764198541641235\n",
      "== epoch 19 ==\n",
      "1.1628399822447035\n"
     ]
    }
   ],
   "source": [
    "from tqdm import tqdm\n",
    "\n",
    "\n",
    "#model training\n",
    "criterion = nn.CrossEntropyLoss()\n",
    "optimizer = torch.optim.Adam(mlp.parameters(), lr=learning_rate) \n",
    "\n",
    "n_total_steps = len(train_loader)\n",
    "for epoch in range(epochs):\n",
    "    print(f'== epoch {epoch} ==')\n",
    "    # Train the model\n",
    "    mlp.train()\n",
    "    train_loss = 0.0\n",
    "    for i, (embedding, label) in enumerate(train_loader):  \n",
    "        optimizer.zero_grad()\n",
    "                \n",
    "        # Forward pass\n",
    "        outputs =  mlp(embedding)\n",
    "        loss = criterion(outputs, label)\n",
    "        \n",
    "        # Backward and optimize\n",
    "        loss.backward()\n",
    "        optimizer.step()\n",
    "\n",
    "        train_loss += loss.item()\n",
    "    train_loss /= i\n",
    "    \n",
    "    print(f\"train_loss : {train_loss}\")\n",
    "\n",
    "    mlp.eval()\n",
    "    val_loss = 0.0\n",
    "    for i, (embedding, label) in enumerate(val_loader):                 \n",
    "        # Forward pass\n",
    "        outputs =  mlp(embedding)\n",
    "        loss = criterion(outputs, label)\n",
    "        val_loss += loss.item()\n",
    "    val_loss /= i\n",
    "    print(f\"val_loss : {val_loss}\")\n",
    "\n",
    "        "
   ]
  },
  {
   "cell_type": "markdown",
   "metadata": {},
   "source": []
  },
  {
   "cell_type": "code",
   "execution_count": null,
   "metadata": {},
   "outputs": [],
   "source": []
  }
 ],
 "metadata": {
  "kernelspec": {
   "display_name": "interview-9R0srsGm-py3.10",
   "language": "python",
   "name": "python3"
  },
  "language_info": {
   "codemirror_mode": {
    "name": "ipython",
    "version": 3
   },
   "file_extension": ".py",
   "mimetype": "text/x-python",
   "name": "python",
   "nbconvert_exporter": "python",
   "pygments_lexer": "ipython3",
   "version": "3.10.12"
  }
 },
 "nbformat": 4,
 "nbformat_minor": 2
}
